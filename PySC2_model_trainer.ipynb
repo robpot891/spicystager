{
  "nbformat": 4,
  "nbformat_minor": 0,
  "metadata": {
    "colab": {
      "name": "Copy of PySC2-model trainer.ipynb",
      "version": "0.3.2",
      "provenance": [],
      "private_outputs": true,
      "collapsed_sections": [],
      "toc_visible": true,
      "include_colab_link": true
    },
    "kernelspec": {
      "name": "python3",
      "display_name": "Python 3"
    },
    "accelerator": "GPU"
  },
  "cells": [
    {
      "cell_type": "markdown",
      "metadata": {
        "id": "view-in-github",
        "colab_type": "text"
      },
      "source": [
        "<a href=\"https://colab.research.google.com/github/robpot891/spicystager/blob/master/PySC2_model_trainer.ipynb\" target=\"_parent\"><img src=\"https://colab.research.google.com/assets/colab-badge.svg\" alt=\"Open In Colab\"/></a>"
      ]
    },
    {
      "metadata": {
        "id": "iU1GVYdTDnK-",
        "colab_type": "text"
      },
      "cell_type": "markdown",
      "source": [
        "# PySc2 machine learning model trainer for Google Colaboratory.\n",
        "\n",
        "**Author**: Paul Steven Conyngham\n",
        "\n",
        "**Contributors**: Paul Steven Conyngham, Frank He, William Xu\n",
        "\n",
        "\n",
        "This Google Colab Notebook is setup to get a basic version of the DQN algorithm training on Colabs. We could have compressed all the necessary steps into a simple bash script file, however we have left them all here so you can see  the steps required to get PySc2 working on Colabs.\n",
        "\n",
        "Feel free to make a copy of this notebook & modify it for your own PySC2 machine learning purposes.\n",
        "\n",
        "\n",
        "\n",
        "\n",
        "\n",
        "\n"
      ]
    },
    {
      "metadata": {
        "id": "ASZ8vR5MQM3x",
        "colab_type": "text"
      },
      "cell_type": "markdown",
      "source": [
        "Steps to get started:\n",
        "\n",
        "1.   First off click **File**, on the menu above & **Save a copy in drive**, this will copy an instance to your google drive, to allow you to start running it!\n",
        "\n",
        "2.   Once the notebook has finished copying, go to your fresh copy and click **\"connect\"** in the top right hand corner of Colabs. This connects your computer to a power Virtual Machine sitting in Google's cloud.\n",
        "\n",
        "\n"
      ]
    },
    {
      "metadata": {
        "id": "tBDHb-GC7wi2",
        "colab_type": "text"
      },
      "cell_type": "markdown",
      "source": [
        "How to run it:\n",
        "\n",
        "\n",
        "**For those new to Colaboratory**, there are two types of \"cell blocks\" **text** (like the one you are reading right now) and **code**. For code Cell blocks just click the little play button in order to get the code to run. The play button looks like this:\n",
        "\n",
        "![alt text](https://image.ibb.co/i4sxHH/Screen_Shot_2018_04_10_at_3_04_50_pm.png)\n",
        "\n",
        "Or you can simply click the \"**Runtime**\" menu button up above, and click \"**Run all**\", sit back & watch colabs go to work.\n",
        "\n"
      ]
    },
    {
      "metadata": {
        "id": "b8DrhJtBAnw4",
        "colab_type": "text"
      },
      "cell_type": "markdown",
      "source": [
        "Also, for those of you looking to dive a little deeper into Colabs, feel free to check out Google's official intro to Colaboratory here:\n",
        "\n",
        "[Official colab usage documentation](https://colab.research.google.com/notebooks/welcome.ipynb)"
      ]
    },
    {
      "metadata": {
        "id": "sXshb7q57cBX",
        "colab_type": "text"
      },
      "cell_type": "markdown",
      "source": [
        "One final sidenote: it would be amazing to be able to render here somehow"
      ]
    },
    {
      "metadata": {
        "id": "gImRQ1y-f0H5",
        "colab_type": "text"
      },
      "cell_type": "markdown",
      "source": [
        "## Run all the stuff below (takes about 10 minutes) to setup pysc2 on colabs\n",
        "\n",
        "Go Grab a coffee whilst PySc2 installs.\n",
        "\n"
      ]
    },
    {
      "metadata": {
        "id": "U6VYztakgB_v",
        "colab_type": "text"
      },
      "cell_type": "markdown",
      "source": [
        "## [start of installation section]"
      ]
    },
    {
      "metadata": {
        "id": "Yb6P9iBUh_Ta",
        "colab_type": "code",
        "colab": {}
      },
      "cell_type": "code",
      "source": [
        "\n",
        "!pip3 install -U PyDrive\n",
        "!pip3 install https://download.pytorch.org/whl/cu80/torch-0.3.1-cp36-cp36m-linux_x86_64.whl && pip install torchvision\n",
        "!apt-get -qq install -y libsm6 libxext6 && pip3 install -U opencv-python\n",
        "!apt-get install -y xvfb python-opengl\n",
        "!apt-get install google-perftools\n",
        "!pip install reaver[tf-gpu,gym,atari,mujoco]"
      ],
      "execution_count": 0,
      "outputs": []
    },
    {
      "metadata": {
        "id": "-DRY7WdZrb4u",
        "colab_type": "text"
      },
      "cell_type": "markdown",
      "source": [
        "Download the headless SC2 client"
      ]
    },
    {
      "metadata": {
        "id": "5lafjJ1-sWhf",
        "colab_type": "code",
        "colab": {}
      },
      "cell_type": "code",
      "source": [
        "!wget http://blzdistsc2-a.akamaihd.net/Linux/SC2.4.0.2.zip"
      ],
      "execution_count": 0,
      "outputs": []
    },
    {
      "metadata": {
        "id": "-VElJXaLe1Qt",
        "colab_type": "text"
      },
      "cell_type": "markdown",
      "source": [
        "Note: By typing in the password ‘iagreetotheeula’ you agree to be bound by the terms of [Blizzard's AI and Machine Learning License](https://blzdistsc2-a.akamaihd.net/AI_AND_MACHINE_LEARNING_LICENSE.html)"
      ]
    },
    {
      "metadata": {
        "id": "JBCh3CeizZhu",
        "colab_type": "code",
        "colab": {}
      },
      "cell_type": "code",
      "source": [
        "!unzip -P iagreetotheeula SC2.4.0.2.zip"
      ],
      "execution_count": 0,
      "outputs": []
    },
    {
      "metadata": {
        "id": "CX2F3B1Mz6Mm",
        "colab_type": "code",
        "colab": {}
      },
      "cell_type": "code",
      "source": [
        "!pip install pysc2"
      ],
      "execution_count": 0,
      "outputs": []
    },
    {
      "metadata": {
        "id": "J80V7zIku0PT",
        "colab_type": "code",
        "colab": {}
      },
      "cell_type": "code",
      "source": [
        "\n",
        "!git clone https://github.com/PaulConyngham/DeepRLBootCampLabs.git"
      ],
      "execution_count": 0,
      "outputs": []
    },
    {
      "metadata": {
        "id": "QH13rqOHaT22",
        "colab_type": "code",
        "colab": {}
      },
      "cell_type": "code",
      "source": [
        "!rsync -a ~/DeepRLBootCampLabs/pytorch ~/"
      ],
      "execution_count": 0,
      "outputs": []
    },
    {
      "metadata": {
        "id": "LKo32fOscwyG",
        "colab_type": "code",
        "colab": {}
      },
      "cell_type": "code",
      "source": [
        "!wget https://github.com/deepmind/pysc2/raw/master/pysc2/maps/mini_games/MoveToBeacon.SC2Map"
      ],
      "execution_count": 0,
      "outputs": []
    },
    {
      "metadata": {
        "id": "FuAN3wfPdHpb",
        "colab_type": "code",
        "colab": {}
      },
      "cell_type": "code",
      "source": [
        "!mkdir StarCraftII/Maps/mini_games\n"
      ],
      "execution_count": 0,
      "outputs": []
    },
    {
      "metadata": {
        "id": "FvXaT_VznzaD",
        "colab_type": "code",
        "colab": {}
      },
      "cell_type": "code",
      "source": [
        "#!mkdir pytorch/data\n",
        "\n",
        "!mkdir -p ./pytorch/data"
      ],
      "execution_count": 0,
      "outputs": []
    },
    {
      "metadata": {
        "id": "AzcoocsGdbJd",
        "colab_type": "code",
        "colab": {}
      },
      "cell_type": "code",
      "source": [
        "!mv MoveToBeacon.SC2Map /content/StarCraftII/Maps/mini_games/"
      ],
      "execution_count": 0,
      "outputs": []
    },
    {
      "metadata": {
        "id": "Jb_xcPoFdpbc",
        "colab_type": "code",
        "colab": {}
      },
      "cell_type": "code",
      "source": [
        "!ls /content/StarCraftII/Maps/mini_games/"
      ],
      "execution_count": 0,
      "outputs": []
    },
    {
      "metadata": {
        "id": "nGIVuvfREYWL",
        "colab_type": "code",
        "colab": {}
      },
      "cell_type": "code",
      "source": [
        "!apt-get remove libtcmalloc*"
      ],
      "execution_count": 0,
      "outputs": []
    },
    {
      "metadata": {
        "id": "jfUqb3q0gL0_",
        "colab_type": "text"
      },
      "cell_type": "markdown",
      "source": [
        "## [end of installation section]"
      ]
    },
    {
      "metadata": {
        "id": "0tJ_TtmhgP6H",
        "colab_type": "text"
      },
      "cell_type": "markdown",
      "source": [
        "## Run the command below to get Pysc2 running on colabs!\n",
        "\n"
      ]
    },
    {
      "metadata": {
        "id": "WSros5dPds2-",
        "colab_type": "code",
        "colab": {}
      },
      "cell_type": "code",
      "source": [
        "\n",
        "\n",
        "!PYTHONPATH=. timeout -s 2 11h python ~/pytorch/sc2_agents/BaseTrainer.py --map=MoveToBeacon --train=True\n"
      ],
      "execution_count": 0,
      "outputs": []
    },
    {
      "metadata": {
        "id": "ahCHraqno5Ke",
        "colab_type": "text"
      },
      "cell_type": "markdown",
      "source": [
        "\n",
        "\n",
        "## Now, Download the weights from your trained neural network!\n",
        "\n",
        "\n"
      ]
    },
    {
      "metadata": {
        "id": "7exExc3vJfeL",
        "colab_type": "code",
        "colab": {}
      },
      "cell_type": "code",
      "source": [
        "# unfortunately, PySC2 uses Abseil, which treats python code as if its run like an app\n",
        "# This does not play well with jupyter notebook\n",
        "# So we will need to monkeypatch sys.argv\n",
        "\n",
        "\n",
        "import sys\n",
        "sys.argv = [\"python\", \"--map\", \"Simple64\"]\n",
        "\n",
        "# Copyright 2017 Google Inc. All Rights Reserved.\n",
        "#\n",
        "# Licensed under the Apache License, Version 2.0 (the \"License\");\n",
        "# you may not use this file except in compliance with the License.\n",
        "# You may obtain a copy of the License at\n",
        "#\n",
        "#      http://www.apache.org/licenses/LICENSE-2.0\n",
        "#\n",
        "# Unless required by applicable law or agreed to in writing, software\n",
        "# distributed under the License is distributed on an \"AS-IS\" BASIS,\n",
        "# WITHOUT WARRANTIES OR CONDITIONS OF ANY KIND, either express or implied.\n",
        "# See the License for the specific language governing permissions and\n",
        "# limitations under the License.\n",
        "\"\"\"Run an agent.\"\"\"\n",
        "\n",
        "from __future__ import absolute_import\n",
        "from __future__ import division\n",
        "from __future__ import print_function\n",
        "\n",
        "import importlib\n",
        "import threading\n",
        "\n",
        "from absl import app\n",
        "from absl import flags\n",
        "from future.builtins import range  # pylint: disable=redefined-builtin\n",
        "\n",
        "from pysc2 import maps\n",
        "from pysc2.env import available_actions_printer\n",
        "from pysc2.env import run_loop\n",
        "from pysc2.env import sc2_env\n",
        "from pysc2.lib import point_flag\n",
        "from pysc2.lib import stopwatch\n",
        "\n",
        "FLAGS = flags.FLAGS\n",
        "\n",
        "# because of Abseil's horrible design for running code underneath Colabs\n",
        "# We have to pull out this ugly hack from the hat\n",
        "if \"flags_defined\" not in globals():\n",
        "    flags.DEFINE_bool(\"render\", True, \"Whether to render with pygame.\")\n",
        "    point_flag.DEFINE_point(\"feature_screen_size\", \"84\",\n",
        "                            \"Resolution for screen feature layers.\")\n",
        "    point_flag.DEFINE_point(\"feature_minimap_size\", \"64\",\n",
        "                            \"Resolution for minimap feature layers.\")\n",
        "    point_flag.DEFINE_point(\"rgb_screen_size\", None,\n",
        "                            \"Resolution for rendered screen.\")\n",
        "    point_flag.DEFINE_point(\"rgb_minimap_size\", None,\n",
        "                            \"Resolution for rendered minimap.\")\n",
        "    flags.DEFINE_enum(\"action_space\", None, sc2_env.ActionSpace._member_names_,  # pylint: disable=protected-access\n",
        "                      \"Which action space to use. Needed if you take both feature \"\n",
        "                      \"and rgb observations.\")\n",
        "    flags.DEFINE_bool(\"use_feature_units\", False,\n",
        "                      \"Whether to include feature units.\")\n",
        "    flags.DEFINE_bool(\"disable_fog\", False, \"Whether to disable Fog of War.\")\n",
        "\n",
        "    flags.DEFINE_integer(\"max_agent_steps\", 0, \"Total agent steps.\")\n",
        "    flags.DEFINE_integer(\"game_steps_per_episode\", None, \"Game steps per episode.\")\n",
        "    flags.DEFINE_integer(\"max_episodes\", 0, \"Total episodes.\")\n",
        "    flags.DEFINE_integer(\"step_mul\", 8, \"Game steps per agent step.\")\n",
        "\n",
        "    flags.DEFINE_string(\"agent\", \"pysc2.agents.random_agent.RandomAgent\",\n",
        "                        \"Which agent to run, as a python path to an Agent class.\")\n",
        "    flags.DEFINE_enum(\"agent_race\", \"random\", sc2_env.Race._member_names_,  # pylint: disable=protected-access\n",
        "                      \"Agent 1's race.\")\n",
        "\n",
        "    flags.DEFINE_string(\"agent2\", \"Bot\", \"Second agent, either Bot or agent class.\")\n",
        "    flags.DEFINE_enum(\"agent2_race\", \"random\", sc2_env.Race._member_names_,  # pylint: disable=protected-access\n",
        "                      \"Agent 2's race.\")\n",
        "    flags.DEFINE_enum(\"difficulty\", \"very_easy\", sc2_env.Difficulty._member_names_,  # pylint: disable=protected-access\n",
        "                      \"If agent2 is a built-in Bot, it's strength.\")\n",
        "\n",
        "    flags.DEFINE_bool(\"profile\", False, \"Whether to turn on code profiling.\")\n",
        "    flags.DEFINE_bool(\"trace\", False, \"Whether to trace the code execution.\")\n",
        "    flags.DEFINE_integer(\"parallel\", 1, \"How many instances to run in parallel.\")\n",
        "\n",
        "    flags.DEFINE_bool(\"save_replay\", True, \"Whether to save a replay at the end.\")\n",
        "\n",
        "    flags.DEFINE_string(\"map\", None, \"Name of a map to use.\")\n",
        "    flags.mark_flag_as_required(\"map\")\n",
        "\n",
        "flags_defined = True\n",
        "\n",
        "def run_thread(agent_classes, players, map_name, visualize):\n",
        "  \"\"\"Run one thread worth of the environment with agents.\"\"\"\n",
        "  with sc2_env.SC2Env(\n",
        "      map_name=map_name,\n",
        "      players=players,\n",
        "      agent_interface_format=sc2_env.parse_agent_interface_format(\n",
        "          feature_screen=FLAGS.feature_screen_size,\n",
        "          feature_minimap=FLAGS.feature_minimap_size,\n",
        "          rgb_screen=FLAGS.rgb_screen_size,\n",
        "          rgb_minimap=FLAGS.rgb_minimap_size,\n",
        "          action_space=FLAGS.action_space,\n",
        "          use_feature_units=FLAGS.use_feature_units),\n",
        "      step_mul=FLAGS.step_mul,\n",
        "      game_steps_per_episode=FLAGS.game_steps_per_episode,\n",
        "      disable_fog=FLAGS.disable_fog,\n",
        "      visualize=visualize) as env:\n",
        "    env = available_actions_printer.AvailableActionsPrinter(env)\n",
        "    agents = [agent_cls() for agent_cls in agent_classes]\n",
        "    run_loop.run_loop(agents, env, FLAGS.max_agent_steps, FLAGS.max_episodes)\n",
        "    if FLAGS.save_replay:\n",
        "      env.save_replay(agent_classes[0].__name__)\n",
        "\n",
        "\n",
        "def main(unused_argv):\n",
        "  \"\"\"Run an agent.\"\"\"\n",
        "  stopwatch.sw.enabled = FLAGS.profile or FLAGS.trace\n",
        "  stopwatch.sw.trace = FLAGS.trace\n",
        "\n",
        "  map_inst = maps.get(FLAGS.map)\n",
        "\n",
        "  agent_classes = []\n",
        "  players = []\n",
        "\n",
        "  agent_module, agent_name = FLAGS.agent.rsplit(\".\", 1)\n",
        "  agent_cls = getattr(importlib.import_module(agent_module), agent_name)\n",
        "  agent_classes.append(agent_cls)\n",
        "  players.append(sc2_env.Agent(sc2_env.Race[FLAGS.agent_race]))\n",
        "\n",
        "  if map_inst.players >= 2:\n",
        "    if FLAGS.agent2 == \"Bot\":\n",
        "      players.append(sc2_env.Bot(sc2_env.Race[FLAGS.agent2_race],\n",
        "                                 sc2_env.Difficulty[FLAGS.difficulty]))\n",
        "    else:\n",
        "      agent_module, agent_name = FLAGS.agent2.rsplit(\".\", 1)\n",
        "      agent_cls = getattr(importlib.import_module(agent_module), agent_name)\n",
        "      agent_classes.append(agent_cls)\n",
        "      players.append(sc2_env.Agent(sc2_env.Race[FLAGS.agent2_race]))\n",
        "\n",
        "  threads = []\n",
        "  for _ in range(FLAGS.parallel - 1):\n",
        "    t = threading.Thread(target=run_thread,\n",
        "                         args=(agent_classes, players, FLAGS.map, False))\n",
        "    threads.append(t)\n",
        "    t.start()\n",
        "\n",
        "  run_thread(agent_classes, players, FLAGS.map, FLAGS.render)\n",
        "\n",
        "  for t in threads:\n",
        "    t.join()\n",
        "\n",
        "  if FLAGS.profile:\n",
        "    print(stopwatch.sw)\n",
        "\n",
        "\n",
        "def entry_point():  # Needed so setup.py scripts work.\n",
        "  app.run(main)\n",
        "\n",
        "\n",
        "if __name__ == \"__main__\":\n",
        "  app.run(main)"
      ],
      "execution_count": 0,
      "outputs": []
    },
    {
      "metadata": {
        "id": "_yg38AwJoyN-",
        "colab_type": "code",
        "colab": {}
      },
      "cell_type": "code",
      "source": [
        "from google.colab import files\n",
        "\n",
        "files.download('./pytorch/data/SC2QAgent')"
      ],
      "execution_count": 0,
      "outputs": []
    },
    {
      "metadata": {
        "id": "Wo6ShwhFrpNk",
        "colab_type": "code",
        "colab": {}
      },
      "cell_type": "code",
      "source": [
        "# and thats it!"
      ],
      "execution_count": 0,
      "outputs": []
    }
  ]
}